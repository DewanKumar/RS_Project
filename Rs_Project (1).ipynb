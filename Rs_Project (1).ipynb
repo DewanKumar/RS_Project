{
  "nbformat": 4,
  "nbformat_minor": 0,
  "metadata": {
    "colab": {
      "provenance": []
    },
    "kernelspec": {
      "name": "python3",
      "display_name": "Python 3"
    },
    "language_info": {
      "name": "python"
    }
  },
  "cells": [
    {
      "cell_type": "code",
      "execution_count": null,
      "metadata": {
        "colab": {
          "base_uri": "https://localhost:8080/"
        },
        "id": "cxEpsvm2ogCj",
        "outputId": "9fe6a023-46cb-4e16-d68c-540e9183f459"
      },
      "outputs": [
        {
          "output_type": "stream",
          "name": "stdout",
          "text": [
            "Requirement already satisfied: scikit-learn in /usr/local/lib/python3.11/dist-packages (1.6.1)\n",
            "Requirement already satisfied: numpy>=1.19.5 in /usr/local/lib/python3.11/dist-packages (from scikit-learn) (2.0.2)\n",
            "Requirement already satisfied: scipy>=1.6.0 in /usr/local/lib/python3.11/dist-packages (from scikit-learn) (1.15.3)\n",
            "Requirement already satisfied: joblib>=1.2.0 in /usr/local/lib/python3.11/dist-packages (from scikit-learn) (1.5.0)\n",
            "Requirement already satisfied: threadpoolctl>=3.1.0 in /usr/local/lib/python3.11/dist-packages (from scikit-learn) (3.6.0)\n",
            "Collecting surprise\n",
            "  Downloading surprise-0.1-py2.py3-none-any.whl.metadata (327 bytes)\n",
            "Collecting scikit-surprise (from surprise)\n",
            "  Downloading scikit_surprise-1.1.4.tar.gz (154 kB)\n",
            "\u001b[2K     \u001b[90m━━━━━━━━━━━━━━━━━━━━━━━━━━━━━━━━━━━━━━━\u001b[0m \u001b[32m154.4/154.4 kB\u001b[0m \u001b[31m2.9 MB/s\u001b[0m eta \u001b[36m0:00:00\u001b[0m\n",
            "\u001b[?25h  Installing build dependencies ... \u001b[?25l\u001b[?25hdone\n",
            "  Getting requirements to build wheel ... \u001b[?25l\u001b[?25hdone\n",
            "  Preparing metadata (pyproject.toml) ... \u001b[?25l\u001b[?25hdone\n",
            "Requirement already satisfied: joblib>=1.2.0 in /usr/local/lib/python3.11/dist-packages (from scikit-surprise->surprise) (1.5.0)\n",
            "Requirement already satisfied: numpy>=1.19.5 in /usr/local/lib/python3.11/dist-packages (from scikit-surprise->surprise) (2.0.2)\n",
            "Requirement already satisfied: scipy>=1.6.0 in /usr/local/lib/python3.11/dist-packages (from scikit-surprise->surprise) (1.15.3)\n",
            "Downloading surprise-0.1-py2.py3-none-any.whl (1.8 kB)\n",
            "Building wheels for collected packages: scikit-surprise\n",
            "  Building wheel for scikit-surprise (pyproject.toml) ... \u001b[?25l\u001b[?25hdone\n",
            "  Created wheel for scikit-surprise: filename=scikit_surprise-1.1.4-cp311-cp311-linux_x86_64.whl size=2463300 sha256=d1a83b2eb96f483253585f6203f8feb3025909d5db95e585dc52e40546eeee49\n",
            "  Stored in directory: /root/.cache/pip/wheels/2a/8f/6e/7e2899163e2d85d8266daab4aa1cdabec7a6c56f83c015b5af\n",
            "Successfully built scikit-surprise\n",
            "Installing collected packages: scikit-surprise, surprise\n",
            "Successfully installed scikit-surprise-1.1.4 surprise-0.1\n",
            "Requirement already satisfied: pandas in /usr/local/lib/python3.11/dist-packages (2.2.2)\n",
            "Requirement already satisfied: numpy>=1.23.2 in /usr/local/lib/python3.11/dist-packages (from pandas) (2.0.2)\n",
            "Requirement already satisfied: python-dateutil>=2.8.2 in /usr/local/lib/python3.11/dist-packages (from pandas) (2.9.0.post0)\n",
            "Requirement already satisfied: pytz>=2020.1 in /usr/local/lib/python3.11/dist-packages (from pandas) (2025.2)\n",
            "Requirement already satisfied: tzdata>=2022.7 in /usr/local/lib/python3.11/dist-packages (from pandas) (2025.2)\n",
            "Requirement already satisfied: six>=1.5 in /usr/local/lib/python3.11/dist-packages (from python-dateutil>=2.8.2->pandas) (1.17.0)\n",
            "Requirement already satisfied: numpy in /usr/local/lib/python3.11/dist-packages (2.0.2)\n",
            "Requirement already satisfied: scikit-learn in /usr/local/lib/python3.11/dist-packages (1.6.1)\n",
            "Requirement already satisfied: numpy>=1.19.5 in /usr/local/lib/python3.11/dist-packages (from scikit-learn) (2.0.2)\n",
            "Requirement already satisfied: scipy>=1.6.0 in /usr/local/lib/python3.11/dist-packages (from scikit-learn) (1.15.3)\n",
            "Requirement already satisfied: joblib>=1.2.0 in /usr/local/lib/python3.11/dist-packages (from scikit-learn) (1.5.0)\n",
            "Requirement already satisfied: threadpoolctl>=3.1.0 in /usr/local/lib/python3.11/dist-packages (from scikit-learn) (3.6.0)\n"
          ]
        }
      ],
      "source": [
        "# Install necessary libraries (if needed)\n",
        "!pip install scikit-learn\n",
        "!pip install surprise\n",
        "!pip install pandas\n",
        "!pip install numpy\n",
        "!pip install scikit-learn\n"
      ]
    },
    {
      "cell_type": "markdown",
      "source": [
        "##Load Dataset"
      ],
      "metadata": {
        "id": "dJqqMgtYwkjc"
      }
    },
    {
      "cell_type": "code",
      "source": [
        "import pandas as pd\n",
        "\n",
        "# Load files\n",
        "events = pd.read_csv('events.csv')\n",
        "item_properties1 = pd.read_csv('item_properties_part1.csv')\n",
        "item_properties2 = pd.read_csv('item_properties_part2.csv')\n",
        "category_tree = pd.read_csv('category_tree.csv')\n",
        "\n",
        "# Combine product properties\n",
        "item_properties = pd.concat([item_properties1, item_properties2])\n",
        "\n",
        "print(\"Data Loaded Successfully!\")\n",
        "print(\"Events shape:\", events.shape)\n",
        "print(\"Item Properties shape:\", item_properties.shape)\n"
      ],
      "metadata": {
        "colab": {
          "base_uri": "https://localhost:8080/"
        },
        "id": "DTfu7DMNpUfs",
        "outputId": "01e6e16a-60fb-4dc9-a6ae-0b3f1d5b7756"
      },
      "execution_count": null,
      "outputs": [
        {
          "output_type": "stream",
          "name": "stdout",
          "text": [
            "Data Loaded Successfully!\n",
            "Events shape: (2756101, 5)\n",
            "Item Properties shape: (1500393, 7)\n"
          ]
        }
      ]
    },
    {
      "cell_type": "markdown",
      "source": [
        "##Basic Preprocessing"
      ],
      "metadata": {
        "id": "-2eMqmCPwo98"
      }
    },
    {
      "cell_type": "code",
      "source": [
        "# Filter only 'view' events (you can also use 'purchase')\n",
        "events = events[events['event'] == 'view']\n",
        "\n",
        "# Drop unnecessary columns\n",
        "events = events[['visitorid', 'itemid', 'timestamp']]\n",
        "\n",
        "# Keep only important properties\n",
        "\n",
        "item_properties = item_properties[item_properties['property'].isin(['categoryid', 'available', 'brand'])]\n",
        "item_properties = item_properties[['itemid', 'property', 'value']]\n",
        "\n",
        "# Pivot product properties\n",
        "\n",
        "item_features = item_properties.pivot_table(index='itemid', columns='property', values='value', aggfunc='first')\n",
        "\n",
        "# Drop products without features\n",
        "item_features = item_features.dropna()\n",
        "\n",
        "print(\"Preprocessing Done!\")\n",
        "item_features.head()\n"
      ],
      "metadata": {
        "colab": {
          "base_uri": "https://localhost:8080/",
          "height": 255
        },
        "id": "DltKpxRBtCz-",
        "outputId": "d73de327-cbba-4003-99c4-9d32630521c9"
      },
      "execution_count": null,
      "outputs": [
        {
          "output_type": "stream",
          "name": "stdout",
          "text": [
            "Preprocessing Done!\n"
          ]
        },
        {
          "output_type": "execute_result",
          "data": {
            "text/plain": [
              "property available categoryid\n",
              "itemid                       \n",
              "83.0             0        619\n",
              "294.0            0       1007\n",
              "320.0            0        929\n",
              "721.0            0        977\n",
              "1154.0           0        209"
            ],
            "text/html": [
              "\n",
              "  <div id=\"df-f9a5f704-c856-4bf3-a96d-4a378c5457b4\" class=\"colab-df-container\">\n",
              "    <div>\n",
              "<style scoped>\n",
              "    .dataframe tbody tr th:only-of-type {\n",
              "        vertical-align: middle;\n",
              "    }\n",
              "\n",
              "    .dataframe tbody tr th {\n",
              "        vertical-align: top;\n",
              "    }\n",
              "\n",
              "    .dataframe thead th {\n",
              "        text-align: right;\n",
              "    }\n",
              "</style>\n",
              "<table border=\"1\" class=\"dataframe\">\n",
              "  <thead>\n",
              "    <tr style=\"text-align: right;\">\n",
              "      <th>property</th>\n",
              "      <th>available</th>\n",
              "      <th>categoryid</th>\n",
              "    </tr>\n",
              "    <tr>\n",
              "      <th>itemid</th>\n",
              "      <th></th>\n",
              "      <th></th>\n",
              "    </tr>\n",
              "  </thead>\n",
              "  <tbody>\n",
              "    <tr>\n",
              "      <th>83.0</th>\n",
              "      <td>0</td>\n",
              "      <td>619</td>\n",
              "    </tr>\n",
              "    <tr>\n",
              "      <th>294.0</th>\n",
              "      <td>0</td>\n",
              "      <td>1007</td>\n",
              "    </tr>\n",
              "    <tr>\n",
              "      <th>320.0</th>\n",
              "      <td>0</td>\n",
              "      <td>929</td>\n",
              "    </tr>\n",
              "    <tr>\n",
              "      <th>721.0</th>\n",
              "      <td>0</td>\n",
              "      <td>977</td>\n",
              "    </tr>\n",
              "    <tr>\n",
              "      <th>1154.0</th>\n",
              "      <td>0</td>\n",
              "      <td>209</td>\n",
              "    </tr>\n",
              "  </tbody>\n",
              "</table>\n",
              "</div>\n",
              "    <div class=\"colab-df-buttons\">\n",
              "\n",
              "  <div class=\"colab-df-container\">\n",
              "    <button class=\"colab-df-convert\" onclick=\"convertToInteractive('df-f9a5f704-c856-4bf3-a96d-4a378c5457b4')\"\n",
              "            title=\"Convert this dataframe to an interactive table.\"\n",
              "            style=\"display:none;\">\n",
              "\n",
              "  <svg xmlns=\"http://www.w3.org/2000/svg\" height=\"24px\" viewBox=\"0 -960 960 960\">\n",
              "    <path d=\"M120-120v-720h720v720H120Zm60-500h600v-160H180v160Zm220 220h160v-160H400v160Zm0 220h160v-160H400v160ZM180-400h160v-160H180v160Zm440 0h160v-160H620v160ZM180-180h160v-160H180v160Zm440 0h160v-160H620v160Z\"/>\n",
              "  </svg>\n",
              "    </button>\n",
              "\n",
              "  <style>\n",
              "    .colab-df-container {\n",
              "      display:flex;\n",
              "      gap: 12px;\n",
              "    }\n",
              "\n",
              "    .colab-df-convert {\n",
              "      background-color: #E8F0FE;\n",
              "      border: none;\n",
              "      border-radius: 50%;\n",
              "      cursor: pointer;\n",
              "      display: none;\n",
              "      fill: #1967D2;\n",
              "      height: 32px;\n",
              "      padding: 0 0 0 0;\n",
              "      width: 32px;\n",
              "    }\n",
              "\n",
              "    .colab-df-convert:hover {\n",
              "      background-color: #E2EBFA;\n",
              "      box-shadow: 0px 1px 2px rgba(60, 64, 67, 0.3), 0px 1px 3px 1px rgba(60, 64, 67, 0.15);\n",
              "      fill: #174EA6;\n",
              "    }\n",
              "\n",
              "    .colab-df-buttons div {\n",
              "      margin-bottom: 4px;\n",
              "    }\n",
              "\n",
              "    [theme=dark] .colab-df-convert {\n",
              "      background-color: #3B4455;\n",
              "      fill: #D2E3FC;\n",
              "    }\n",
              "\n",
              "    [theme=dark] .colab-df-convert:hover {\n",
              "      background-color: #434B5C;\n",
              "      box-shadow: 0px 1px 3px 1px rgba(0, 0, 0, 0.15);\n",
              "      filter: drop-shadow(0px 1px 2px rgba(0, 0, 0, 0.3));\n",
              "      fill: #FFFFFF;\n",
              "    }\n",
              "  </style>\n",
              "\n",
              "    <script>\n",
              "      const buttonEl =\n",
              "        document.querySelector('#df-f9a5f704-c856-4bf3-a96d-4a378c5457b4 button.colab-df-convert');\n",
              "      buttonEl.style.display =\n",
              "        google.colab.kernel.accessAllowed ? 'block' : 'none';\n",
              "\n",
              "      async function convertToInteractive(key) {\n",
              "        const element = document.querySelector('#df-f9a5f704-c856-4bf3-a96d-4a378c5457b4');\n",
              "        const dataTable =\n",
              "          await google.colab.kernel.invokeFunction('convertToInteractive',\n",
              "                                                    [key], {});\n",
              "        if (!dataTable) return;\n",
              "\n",
              "        const docLinkHtml = 'Like what you see? Visit the ' +\n",
              "          '<a target=\"_blank\" href=https://colab.research.google.com/notebooks/data_table.ipynb>data table notebook</a>'\n",
              "          + ' to learn more about interactive tables.';\n",
              "        element.innerHTML = '';\n",
              "        dataTable['output_type'] = 'display_data';\n",
              "        await google.colab.output.renderOutput(dataTable, element);\n",
              "        const docLink = document.createElement('div');\n",
              "        docLink.innerHTML = docLinkHtml;\n",
              "        element.appendChild(docLink);\n",
              "      }\n",
              "    </script>\n",
              "  </div>\n",
              "\n",
              "\n",
              "    <div id=\"df-50f42018-c007-44e0-bf03-5d19f80689fc\">\n",
              "      <button class=\"colab-df-quickchart\" onclick=\"quickchart('df-50f42018-c007-44e0-bf03-5d19f80689fc')\"\n",
              "                title=\"Suggest charts\"\n",
              "                style=\"display:none;\">\n",
              "\n",
              "<svg xmlns=\"http://www.w3.org/2000/svg\" height=\"24px\"viewBox=\"0 0 24 24\"\n",
              "     width=\"24px\">\n",
              "    <g>\n",
              "        <path d=\"M19 3H5c-1.1 0-2 .9-2 2v14c0 1.1.9 2 2 2h14c1.1 0 2-.9 2-2V5c0-1.1-.9-2-2-2zM9 17H7v-7h2v7zm4 0h-2V7h2v10zm4 0h-2v-4h2v4z\"/>\n",
              "    </g>\n",
              "</svg>\n",
              "      </button>\n",
              "\n",
              "<style>\n",
              "  .colab-df-quickchart {\n",
              "      --bg-color: #E8F0FE;\n",
              "      --fill-color: #1967D2;\n",
              "      --hover-bg-color: #E2EBFA;\n",
              "      --hover-fill-color: #174EA6;\n",
              "      --disabled-fill-color: #AAA;\n",
              "      --disabled-bg-color: #DDD;\n",
              "  }\n",
              "\n",
              "  [theme=dark] .colab-df-quickchart {\n",
              "      --bg-color: #3B4455;\n",
              "      --fill-color: #D2E3FC;\n",
              "      --hover-bg-color: #434B5C;\n",
              "      --hover-fill-color: #FFFFFF;\n",
              "      --disabled-bg-color: #3B4455;\n",
              "      --disabled-fill-color: #666;\n",
              "  }\n",
              "\n",
              "  .colab-df-quickchart {\n",
              "    background-color: var(--bg-color);\n",
              "    border: none;\n",
              "    border-radius: 50%;\n",
              "    cursor: pointer;\n",
              "    display: none;\n",
              "    fill: var(--fill-color);\n",
              "    height: 32px;\n",
              "    padding: 0;\n",
              "    width: 32px;\n",
              "  }\n",
              "\n",
              "  .colab-df-quickchart:hover {\n",
              "    background-color: var(--hover-bg-color);\n",
              "    box-shadow: 0 1px 2px rgba(60, 64, 67, 0.3), 0 1px 3px 1px rgba(60, 64, 67, 0.15);\n",
              "    fill: var(--button-hover-fill-color);\n",
              "  }\n",
              "\n",
              "  .colab-df-quickchart-complete:disabled,\n",
              "  .colab-df-quickchart-complete:disabled:hover {\n",
              "    background-color: var(--disabled-bg-color);\n",
              "    fill: var(--disabled-fill-color);\n",
              "    box-shadow: none;\n",
              "  }\n",
              "\n",
              "  .colab-df-spinner {\n",
              "    border: 2px solid var(--fill-color);\n",
              "    border-color: transparent;\n",
              "    border-bottom-color: var(--fill-color);\n",
              "    animation:\n",
              "      spin 1s steps(1) infinite;\n",
              "  }\n",
              "\n",
              "  @keyframes spin {\n",
              "    0% {\n",
              "      border-color: transparent;\n",
              "      border-bottom-color: var(--fill-color);\n",
              "      border-left-color: var(--fill-color);\n",
              "    }\n",
              "    20% {\n",
              "      border-color: transparent;\n",
              "      border-left-color: var(--fill-color);\n",
              "      border-top-color: var(--fill-color);\n",
              "    }\n",
              "    30% {\n",
              "      border-color: transparent;\n",
              "      border-left-color: var(--fill-color);\n",
              "      border-top-color: var(--fill-color);\n",
              "      border-right-color: var(--fill-color);\n",
              "    }\n",
              "    40% {\n",
              "      border-color: transparent;\n",
              "      border-right-color: var(--fill-color);\n",
              "      border-top-color: var(--fill-color);\n",
              "    }\n",
              "    60% {\n",
              "      border-color: transparent;\n",
              "      border-right-color: var(--fill-color);\n",
              "    }\n",
              "    80% {\n",
              "      border-color: transparent;\n",
              "      border-right-color: var(--fill-color);\n",
              "      border-bottom-color: var(--fill-color);\n",
              "    }\n",
              "    90% {\n",
              "      border-color: transparent;\n",
              "      border-bottom-color: var(--fill-color);\n",
              "    }\n",
              "  }\n",
              "</style>\n",
              "\n",
              "      <script>\n",
              "        async function quickchart(key) {\n",
              "          const quickchartButtonEl =\n",
              "            document.querySelector('#' + key + ' button');\n",
              "          quickchartButtonEl.disabled = true;  // To prevent multiple clicks.\n",
              "          quickchartButtonEl.classList.add('colab-df-spinner');\n",
              "          try {\n",
              "            const charts = await google.colab.kernel.invokeFunction(\n",
              "                'suggestCharts', [key], {});\n",
              "          } catch (error) {\n",
              "            console.error('Error during call to suggestCharts:', error);\n",
              "          }\n",
              "          quickchartButtonEl.classList.remove('colab-df-spinner');\n",
              "          quickchartButtonEl.classList.add('colab-df-quickchart-complete');\n",
              "        }\n",
              "        (() => {\n",
              "          let quickchartButtonEl =\n",
              "            document.querySelector('#df-50f42018-c007-44e0-bf03-5d19f80689fc button');\n",
              "          quickchartButtonEl.style.display =\n",
              "            google.colab.kernel.accessAllowed ? 'block' : 'none';\n",
              "        })();\n",
              "      </script>\n",
              "    </div>\n",
              "\n",
              "    </div>\n",
              "  </div>\n"
            ],
            "application/vnd.google.colaboratory.intrinsic+json": {
              "type": "dataframe",
              "variable_name": "item_features",
              "summary": "{\n  \"name\": \"item_features\",\n  \"rows\": 1708,\n  \"fields\": [\n    {\n      \"column\": \"itemid\",\n      \"properties\": {\n        \"dtype\": \"number\",\n        \"std\": 133457.57995856542,\n        \"min\": 83.0,\n        \"max\": 466738.0,\n        \"num_unique_values\": 1708,\n        \"samples\": [\n          154612.0,\n          359998.0,\n          365466.0\n        ],\n        \"semantic_type\": \"\",\n        \"description\": \"\"\n      }\n    },\n    {\n      \"column\": \"available\",\n      \"properties\": {\n        \"dtype\": \"category\",\n        \"num_unique_values\": 2,\n        \"samples\": [\n          \"1\",\n          \"0\"\n        ],\n        \"semantic_type\": \"\",\n        \"description\": \"\"\n      }\n    },\n    {\n      \"column\": \"categoryid\",\n      \"properties\": {\n        \"dtype\": \"category\",\n        \"num_unique_values\": 481,\n        \"samples\": [\n          \"1421\",\n          \"172\"\n        ],\n        \"semantic_type\": \"\",\n        \"description\": \"\"\n      }\n    }\n  ]\n}"
            }
          },
          "metadata": {},
          "execution_count": 7
        }
      ]
    },
    {
      "cell_type": "markdown",
      "source": [
        "##Content-Based Filtering Model"
      ],
      "metadata": {
        "id": "qCaLGJbkwvHi"
      }
    },
    {
      "cell_type": "code",
      "source": [
        "from sklearn.feature_extraction.text import TfidfVectorizer\n",
        "from sklearn.metrics.pairwise import cosine_similarity\n",
        "\n",
        "# Since only 'categoryid' is available, we use only that\n",
        "item_features['combined_features'] = item_features['categoryid'].astype(str)\n",
        "\n",
        "tfidf = TfidfVectorizer()\n",
        "tfidf_matrix = tfidf.fit_transform(item_features['combined_features'])\n",
        "\n",
        "# Compute Cosine Similarity\n",
        "cosine_sim = cosine_similarity(tfidf_matrix, tfidf_matrix)\n",
        "\n",
        "print(\"Content-Based Filtering model is ready!\")\n",
        "\n"
      ],
      "metadata": {
        "colab": {
          "base_uri": "https://localhost:8080/"
        },
        "id": "WMB0Tcx7tIM-",
        "outputId": "a537e2b2-33fc-426e-cc56-f0ba8eff14c6"
      },
      "execution_count": null,
      "outputs": [
        {
          "output_type": "stream",
          "name": "stdout",
          "text": [
            "Content-Based Filtering model is ready!\n"
          ]
        }
      ]
    },
    {
      "cell_type": "markdown",
      "source": [
        "##Recommendation Function (Content-Based)"
      ],
      "metadata": {
        "id": "l5yAQGDAw3T4"
      }
    },
    {
      "cell_type": "code",
      "source": [
        "# Map item ids to indices\n",
        "indices = pd.Series(item_features.index)\n",
        "\n",
        "def recommend_items_content(item_id, num_recommendations=5):\n",
        "    try:\n",
        "        idx = indices[indices == item_id].index[0]\n",
        "    except IndexError:\n",
        "        return [\"Item not found.\"]\n",
        "\n",
        "    sim_scores = list(enumerate(cosine_sim[idx]))\n",
        "    sim_scores = sorted(sim_scores, key=lambda x: x[1], reverse=True)\n",
        "    sim_scores = sim_scores[1:num_recommendations+1]\n",
        "    item_indices = [i[0] for i in sim_scores]\n",
        "\n",
        "    recommended_items = item_features.index[item_indices]\n",
        "    return recommended_items.tolist()\n",
        "\n",
        "# Example:\n",
        "print(\"Content-based Recommendations for a sample item:\")\n",
        "recommend_items_content(83)\n"
      ],
      "metadata": {
        "id": "60vF1tqCt2-O",
        "outputId": "318465a5-395c-4ba0-d993-1a64fc326fb7",
        "colab": {
          "base_uri": "https://localhost:8080/"
        }
      },
      "execution_count": null,
      "outputs": [
        {
          "output_type": "stream",
          "name": "stdout",
          "text": [
            "Content-based Recommendations for a sample item:\n"
          ]
        },
        {
          "output_type": "execute_result",
          "data": {
            "text/plain": [
              "[10674.0, 74755.0, 78337.0, 96206.0, 167782.0]"
            ]
          },
          "metadata": {},
          "execution_count": 9
        }
      ]
    },
    {
      "cell_type": "markdown",
      "source": [
        "##Load Dataset  Events"
      ],
      "metadata": {
        "id": "Rf6DbecqxLrU"
      }
    },
    {
      "cell_type": "code",
      "source": [
        "import pandas as pd\n",
        "\n",
        "# Load events\n",
        "events = pd.read_csv('events.csv')\n",
        "\n",
        "# Optional: Keep only 'view' events (simplify)\n",
        "events = events[events['event'] == 'view']\n",
        "\n",
        "# Optional: Assign rating 1 to every view\n",
        "events['rating'] = 1\n",
        "\n",
        "# Keep only important columns\n",
        "events = events[['visitorid', 'itemid', 'rating', 'timestamp']]\n",
        "\n",
        "print(events.head())\n",
        "print(\"Events data loaded:\", events.shape)\n"
      ],
      "metadata": {
        "colab": {
          "base_uri": "https://localhost:8080/"
        },
        "id": "MGyRB9SJxKkh",
        "outputId": "35366928-ec8e-40f0-cb77-9ea4adec6d86"
      },
      "execution_count": null,
      "outputs": [
        {
          "output_type": "stream",
          "name": "stdout",
          "text": [
            "   visitorid  itemid  rating      timestamp\n",
            "0     257597  355908       1  1433221332117\n",
            "1     992329  248676       1  1433224214164\n",
            "2     111016  318965       1  1433221999827\n",
            "3     483717  253185       1  1433221955914\n",
            "4     951259  367447       1  1433221337106\n",
            "Events data loaded: (2664312, 4)\n"
          ]
        }
      ]
    },
    {
      "cell_type": "markdown",
      "source": [
        "##Filter active users and popular items"
      ],
      "metadata": {
        "id": "XZ_rjSsEzp2R"
      }
    },
    {
      "cell_type": "code",
      "source": [
        "# Keep users with at least 10 interactions\n",
        "active_users = events['visitorid'].value_counts()\n",
        "active_users = active_users[active_users >= 10].index\n",
        "\n",
        "# Keep items with at least 20 interactions\n",
        "popular_items = events['itemid'].value_counts()\n",
        "popular_items = popular_items[popular_items >= 20].index\n",
        "\n",
        "# Filter dataset\n",
        "filtered_events = events[(events['visitorid'].isin(active_users)) & (events['itemid'].isin(popular_items))]\n",
        "\n",
        "print(\"Filtered events shape:\", filtered_events.shape)\n"
      ],
      "metadata": {
        "colab": {
          "base_uri": "https://localhost:8080/"
        },
        "id": "fRbsxHLZzSKh",
        "outputId": "8c40f603-910e-4eac-b168-da4dc409a052"
      },
      "execution_count": null,
      "outputs": [
        {
          "output_type": "stream",
          "name": "stdout",
          "text": [
            "Filtered events shape: (395302, 4)\n"
          ]
        }
      ]
    },
    {
      "cell_type": "markdown",
      "source": [
        "##Create the User-Item Matrix"
      ],
      "metadata": {
        "id": "GVX9ksuIzt3B"
      }
    },
    {
      "cell_type": "code",
      "source": [
        "# Create user-item matrix\n",
        "user_item_matrix = filtered_events.pivot_table(index='visitorid', columns='itemid', values='rating', fill_value=0)\n",
        "\n",
        "print(\"User-Item matrix created:\", user_item_matrix.shape)\n"
      ],
      "metadata": {
        "colab": {
          "base_uri": "https://localhost:8080/"
        },
        "id": "IRe9TbJizd8-",
        "outputId": "dabfe224-a5a9-41d8-9138-02323537fca3"
      },
      "execution_count": null,
      "outputs": [
        {
          "output_type": "stream",
          "name": "stdout",
          "text": [
            "User-Item matrix created: (20576, 24479)\n"
          ]
        }
      ]
    },
    {
      "cell_type": "markdown",
      "source": [
        "##Build and Train the KNN Collaborative Model"
      ],
      "metadata": {
        "id": "I6bm2d7qzxRS"
      }
    },
    {
      "cell_type": "code",
      "source": [
        "from sklearn.neighbors import NearestNeighbors\n",
        "\n",
        "# Fit a KNN model (cosine similarity)\n",
        "model_knn = NearestNeighbors(metric='cosine', algorithm='brute')\n",
        "model_knn.fit(user_item_matrix)\n",
        "\n",
        "print(\"Collaborative Filtering model trained!\")\n"
      ],
      "metadata": {
        "colab": {
          "base_uri": "https://localhost:8080/"
        },
        "id": "6F1dG8PIzobb",
        "outputId": "b09a00f9-ad45-484f-9ec1-cbaab1258816"
      },
      "execution_count": null,
      "outputs": [
        {
          "output_type": "stream",
          "name": "stdout",
          "text": [
            "Collaborative Filtering model trained!\n"
          ]
        }
      ]
    },
    {
      "cell_type": "markdown",
      "source": [
        "##Make Recommendations for a User"
      ],
      "metadata": {
        "id": "p7oW163Qz3Rc"
      }
    },
    {
      "cell_type": "code",
      "source": [
        "def recommend_items_collaborative(user_id, num_recommendations=5):\n",
        "    # Check if user exists\n",
        "    if user_id not in user_item_matrix.index:\n",
        "        return [\"User not found.\"]\n",
        "\n",
        "    # Get user vector\n",
        "    user_vector = user_item_matrix.loc[user_id].values.reshape(1, -1)\n",
        "\n",
        "    # Find nearest neighbors\n",
        "    distances, indices = model_knn.kneighbors(user_vector, n_neighbors=num_recommendations + 1)\n",
        "\n",
        "    similar_users = user_item_matrix.index[indices.flatten()].tolist()\n",
        "    similar_users.remove(user_id)  # Remove itself\n",
        "\n",
        "    recommended_items = []\n",
        "\n",
        "    for similar_user in similar_users:\n",
        "        # Find items that similar user interacted with but this user hasn't\n",
        "        unseen_items = user_item_matrix.columns[(user_item_matrix.loc[user_id] == 0) & (user_item_matrix.loc[similar_user] > 0)]\n",
        "        recommended_items.extend(unseen_items)\n",
        "\n",
        "    # Remove duplicates and limit recommendations\n",
        "    recommended_items = list(dict.fromkeys(recommended_items))[:num_recommendations]\n",
        "    return recommended_items\n",
        "\n",
        "# Example to get recommendations\n",
        "example_user_id = user_item_matrix.index[0]  # You can pick any real user ID\n",
        "print(f\"Recommended Items for user {example_user_id}:\")\n",
        "print(recommend_items_collaborative(example_user_id))\n"
      ],
      "metadata": {
        "colab": {
          "base_uri": "https://localhost:8080/"
        },
        "id": "kY9UDjeHz2ih",
        "outputId": "ffa24dd8-e140-4903-c1e3-e3a8a98d2e7f"
      },
      "execution_count": null,
      "outputs": [
        {
          "output_type": "stream",
          "name": "stdout",
          "text": [
            "Recommended Items for user 54:\n"
          ]
        }
      ]
    }
  ]
}